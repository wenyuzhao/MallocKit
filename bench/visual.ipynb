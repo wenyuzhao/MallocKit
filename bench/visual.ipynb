{
 "cells": [
  {
   "cell_type": "code",
   "execution_count": 1,
   "metadata": {},
   "outputs": [
    {
     "data": {
      "text/markdown": [
       "| Meta          | Value          |\n",
       "|:------------- | --------------:|\n",
       "| Git revision  | 99ad980 |\n",
       "| System        | Linux (5.16.20-200.fc35.x86_64)           |\n",
       "| Processor     | Intel(R) Core(TM) i7-7700 CPU @ 3.60GHz          |\n",
       "| Memory        | 16 GB          |\n"
      ],
      "text/plain": [
       "<IPython.core.display.Markdown object>"
      ]
     },
     "metadata": {},
     "output_type": "display_data"
    }
   ],
   "source": [
    "import sys; sys.path.insert(0, '.')\n",
    "import visual\n",
    "visual.display_meta_info()\n"
   ]
  },
  {
   "cell_type": "code",
   "execution_count": 2,
   "metadata": {},
   "outputs": [
    {
     "data": {
      "text/markdown": [
       "***RUNID**: optiplex-2022-07-04-133316*"
      ],
      "text/plain": [
       "<IPython.core.display.Markdown object>"
      ]
     },
     "metadata": {},
     "output_type": "display_data"
    },
    {
     "data": {
      "text/markdown": [
       "| malloc | description |\n",
       "|:--- |:--- |\n",
       "|**sys**|System alloctor|\n",
       "|**mi**|MiMalloc|\n",
       "|**hd**|Hoard|\n",
       "|**hoard**|Hoard (MallocKit)|\n"
      ],
      "text/plain": [
       "<IPython.core.display.Markdown object>"
      ]
     },
     "metadata": {},
     "output_type": "display_data"
    },
    {
     "data": {
      "text/markdown": [
       "---\n",
       "\n",
       "## Normalized Time:"
      ],
      "text/plain": [
       "<IPython.core.display.Markdown object>"
      ]
     },
     "metadata": {},
     "output_type": "display_data"
    },
    {
     "data": {
      "text/markdown": [
       "***Mean over 10 invocations.***"
      ],
      "text/plain": [
       "<IPython.core.display.Markdown object>"
      ]
     },
     "metadata": {},
     "output_type": "display_data"
    },
    {
     "data": {
      "text/html": [
       "<div>\n",
       "<style scoped>\n",
       "    .dataframe tbody tr th:only-of-type {\n",
       "        vertical-align: middle;\n",
       "    }\n",
       "\n",
       "    .dataframe tbody tr th {\n",
       "        vertical-align: top;\n",
       "    }\n",
       "\n",
       "    .dataframe thead th {\n",
       "        text-align: right;\n",
       "    }\n",
       "</style>\n",
       "<table border=\"1\" class=\"dataframe\">\n",
       "  <thead>\n",
       "    <tr style=\"text-align: right;\">\n",
       "      <th>malloc</th>\n",
       "      <th>sys</th>\n",
       "      <th>mi</th>\n",
       "      <th>hd</th>\n",
       "      <th>hoard</th>\n",
       "    </tr>\n",
       "    <tr>\n",
       "      <th>bench</th>\n",
       "      <th></th>\n",
       "      <th></th>\n",
       "      <th></th>\n",
       "      <th></th>\n",
       "    </tr>\n",
       "  </thead>\n",
       "  <tbody>\n",
       "    <tr>\n",
       "      <th>alloc-test</th>\n",
       "      <td>1.203163</td>\n",
       "      <td>0.941827</td>\n",
       "      <td>1.0</td>\n",
       "      <td>1.059869</td>\n",
       "    </tr>\n",
       "    <tr>\n",
       "      <th>alloc-test1</th>\n",
       "      <td>1.183114</td>\n",
       "      <td>0.945976</td>\n",
       "      <td>1.0</td>\n",
       "      <td>1.048358</td>\n",
       "    </tr>\n",
       "    <tr>\n",
       "      <th>barnes</th>\n",
       "      <td>1.004184</td>\n",
       "      <td>1.000769</td>\n",
       "      <td>1.0</td>\n",
       "      <td>0.997474</td>\n",
       "    </tr>\n",
       "    <tr>\n",
       "      <th>cache-scratch</th>\n",
       "      <td>0.998345</td>\n",
       "      <td>0.998864</td>\n",
       "      <td>1.0</td>\n",
       "      <td>1.004905</td>\n",
       "    </tr>\n",
       "    <tr>\n",
       "      <th>cache-scratch1</th>\n",
       "      <td>1.001684</td>\n",
       "      <td>1.00208</td>\n",
       "      <td>1.0</td>\n",
       "      <td>1.003324</td>\n",
       "    </tr>\n",
       "    <tr>\n",
       "      <th>cfrac</th>\n",
       "      <td>1.056208</td>\n",
       "      <td>0.969178</td>\n",
       "      <td>1.0</td>\n",
       "      <td>1.00592</td>\n",
       "    </tr>\n",
       "    <tr>\n",
       "      <th>espresso</th>\n",
       "      <td>1.115242</td>\n",
       "      <td>0.982119</td>\n",
       "      <td>1.0</td>\n",
       "      <td>0.99932</td>\n",
       "    </tr>\n",
       "    <tr>\n",
       "      <th>glibc-simple</th>\n",
       "      <td>2.050184</td>\n",
       "      <td>0.927267</td>\n",
       "      <td>1.0</td>\n",
       "      <td>1.028453</td>\n",
       "    </tr>\n",
       "    <tr>\n",
       "      <th>glibc-thread</th>\n",
       "      <td>0.999304</td>\n",
       "      <td>0.999398</td>\n",
       "      <td>1.0</td>\n",
       "      <td>1.000206</td>\n",
       "    </tr>\n",
       "    <tr>\n",
       "      <th>gs</th>\n",
       "      <td>0.992361</td>\n",
       "      <td>0.99408</td>\n",
       "      <td>1.0</td>\n",
       "      <td>0.993402</td>\n",
       "    </tr>\n",
       "    <tr>\n",
       "      <th>larson</th>\n",
       "      <td>1.000484</td>\n",
       "      <td>1.000223</td>\n",
       "      <td>1.0</td>\n",
       "      <td>1.002099</td>\n",
       "    </tr>\n",
       "    <tr>\n",
       "      <th>larson-sized</th>\n",
       "      <td>1.000306</td>\n",
       "      <td>1.000044</td>\n",
       "      <td>1.0</td>\n",
       "      <td>1.001785</td>\n",
       "    </tr>\n",
       "    <tr>\n",
       "      <th>lean</th>\n",
       "      <td>1.069418</td>\n",
       "      <td>0.880337</td>\n",
       "      <td>1.0</td>\n",
       "      <td>0.945099</td>\n",
       "    </tr>\n",
       "    <tr>\n",
       "      <th>mstress</th>\n",
       "      <td>0.862689</td>\n",
       "      <td>0.687298</td>\n",
       "      <td>1.0</td>\n",
       "      <td>0.972038</td>\n",
       "    </tr>\n",
       "    <tr>\n",
       "      <th>rptest</th>\n",
       "      <td>0.999884</td>\n",
       "      <td>1.000024</td>\n",
       "      <td>1.0</td>\n",
       "      <td>1.000006</td>\n",
       "    </tr>\n",
       "    <tr>\n",
       "      <th>sh6bench</th>\n",
       "      <td>1.737933</td>\n",
       "      <td>0.365705</td>\n",
       "      <td>1.0</td>\n",
       "      <td>0.6171</td>\n",
       "    </tr>\n",
       "    <tr>\n",
       "      <th>sh8bench</th>\n",
       "      <td>1.299962</td>\n",
       "      <td>0.419395</td>\n",
       "      <td>1.0</td>\n",
       "      <td>0.534944</td>\n",
       "    </tr>\n",
       "    <tr>\n",
       "      <th>xmalloc-test</th>\n",
       "      <td>0.983776</td>\n",
       "      <td>0.982142</td>\n",
       "      <td>1.0</td>\n",
       "      <td>0.983547</td>\n",
       "    </tr>\n",
       "    <tr>\n",
       "      <th>.</th>\n",
       "      <td></td>\n",
       "      <td></td>\n",
       "      <td></td>\n",
       "      <td></td>\n",
       "    </tr>\n",
       "    <tr>\n",
       "      <th>min</th>\n",
       "      <td>0.862689</td>\n",
       "      <td>0.365705</td>\n",
       "      <td>1.0</td>\n",
       "      <td>0.534944</td>\n",
       "    </tr>\n",
       "    <tr>\n",
       "      <th>max</th>\n",
       "      <td>2.050184</td>\n",
       "      <td>1.00208</td>\n",
       "      <td>1.0</td>\n",
       "      <td>1.059869</td>\n",
       "    </tr>\n",
       "    <tr>\n",
       "      <th>mean</th>\n",
       "      <td>1.142124</td>\n",
       "      <td>0.894262</td>\n",
       "      <td>1.0</td>\n",
       "      <td>0.955436</td>\n",
       "    </tr>\n",
       "    <tr>\n",
       "      <th>geomean</th>\n",
       "      <td>1.114381</td>\n",
       "      <td>0.863572</td>\n",
       "      <td>1.0</td>\n",
       "      <td>0.942396</td>\n",
       "    </tr>\n",
       "  </tbody>\n",
       "</table>\n",
       "</div>"
      ],
      "text/plain": [
       "malloc               sys        mi   hd     hoard\n",
       "bench                                            \n",
       "alloc-test      1.203163  0.941827  1.0  1.059869\n",
       "alloc-test1     1.183114  0.945976  1.0  1.048358\n",
       "barnes          1.004184  1.000769  1.0  0.997474\n",
       "cache-scratch   0.998345  0.998864  1.0  1.004905\n",
       "cache-scratch1  1.001684   1.00208  1.0  1.003324\n",
       "cfrac           1.056208  0.969178  1.0   1.00592\n",
       "espresso        1.115242  0.982119  1.0   0.99932\n",
       "glibc-simple    2.050184  0.927267  1.0  1.028453\n",
       "glibc-thread    0.999304  0.999398  1.0  1.000206\n",
       "gs              0.992361   0.99408  1.0  0.993402\n",
       "larson          1.000484  1.000223  1.0  1.002099\n",
       "larson-sized    1.000306  1.000044  1.0  1.001785\n",
       "lean            1.069418  0.880337  1.0  0.945099\n",
       "mstress         0.862689  0.687298  1.0  0.972038\n",
       "rptest          0.999884  1.000024  1.0  1.000006\n",
       "sh6bench        1.737933  0.365705  1.0    0.6171\n",
       "sh8bench        1.299962  0.419395  1.0  0.534944\n",
       "xmalloc-test    0.983776  0.982142  1.0  0.983547\n",
       ".                                                \n",
       "min             0.862689  0.365705  1.0  0.534944\n",
       "max             2.050184   1.00208  1.0  1.059869\n",
       "mean            1.142124  0.894262  1.0  0.955436\n",
       "geomean         1.114381  0.863572  1.0  0.942396"
      ]
     },
     "execution_count": 2,
     "metadata": {},
     "output_type": "execute_result"
    },
    {
     "data": {
      "image/png": "[encoded data removed]",
      "text/plain": [
       "<Figure size 1440x648 with 1 Axes>"
      ]
     },
     "metadata": {
      "needs_background": "light"
     },
     "output_type": "display_data"
    }
   ],
   "source": [
    "from visual import Pipeline\n",
    "\n",
    "data, runid = Pipeline.load_results()\n",
    "data, invocations = Pipeline.mean_over_invocation(data)\n",
    "data = Pipeline.normalize(data, baseline = 'hd')\n",
    "data = Pipeline.plot_bar(data, series='malloc', pivot='bench', value='duration_time', column_order = ['sys', 'mi', 'hd', 'hoard', 'buddy'])\n",
    "\n",
    "visual.markdown(f'***RUNID**: {runid}*')\n",
    "algorithms = '| malloc | description |\\n|:--- |:--- |\\n'\n",
    "for a in data.columns.values:\n",
    "    if a == 'buddy': algorithms += f'|**{a}**|Buddy allocator (MallocKit)|\\n'\n",
    "    elif a == 'hd': algorithms += f'|**{a}**|Hoard|\\n'\n",
    "    elif a == 'hoard': algorithms += f'|**{a}**|Hoard (MallocKit)|\\n'\n",
    "    elif a == 'mi': algorithms += f'|**{a}**|MiMalloc|\\n'\n",
    "    elif a == 'sys': algorithms += f'|**{a}**|System alloctor|\\n'\n",
    "visual.markdown(algorithms)\n",
    "visual.markdown('---\\n\\n## Normalized Time:')\n",
    "visual.markdown(f'***Mean over {invocations} invocations.***')\n",
    "\n",
    "data"
   ]
  }
 ],
 "metadata": {
  "kernelspec": {
   "display_name": "Python 3.10.4 64-bit",
   "language": "python",
   "name": "python3"
  },
  "language_info": {
   "codemirror_mode": {
    "name": "ipython",
    "version": 3
   },
   "file_extension": ".py",
   "mimetype": "text/x-python",
   "name": "python",
   "nbconvert_exporter": "python",
   "pygments_lexer": "ipython3",
   "version": "3.10.4"
  },
  "orig_nbformat": 4,
  "vscode": {
   "interpreter": {
    "hash": "e7370f93d1d0cde622a1f8e1c04877d8463912d04d973331ad4851f04de6915a"
   }
  }
 },
 "nbformat": 4,
 "nbformat_minor": 2
}
