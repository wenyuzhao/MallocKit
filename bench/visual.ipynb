{
 "metadata": {
  "language_info": {
   "codemirror_mode": {
    "name": "ipython",
    "version": 3
   },
   "file_extension": ".py",
   "mimetype": "text/x-python",
   "name": "python",
   "nbconvert_exporter": "python",
   "pygments_lexer": "ipython3",
   "version": "3.9.5"
  },
  "orig_nbformat": 4,
  "kernelspec": {
   "name": "python3",
   "display_name": "Python 3.9.5 64-bit"
  },
  "interpreter": {
   "hash": "e7370f93d1d0cde622a1f8e1c04877d8463912d04d973331ad4851f04de6915a"
  }
 },
 "nbformat": 4,
 "nbformat_minor": 2,
 "cells": [
  {
   "cell_type": "code",
   "execution_count": 1,
   "metadata": {},
   "outputs": [
    {
     "output_type": "display_data",
     "data": {
      "text/plain": "<IPython.core.display.Markdown object>",
      "text/markdown": "# git-66b30f4"
     },
     "metadata": {}
    }
   ],
   "source": [
    "import subprocess\n",
    "from IPython.display import Markdown, display\n",
    "\n",
    "git_revision = subprocess.check_output(['git', 'rev-parse', '--short', 'HEAD'], text=True).strip()\n",
    "display(Markdown(f'# git-{git_revision}'))"
   ]
  },
  {
   "cell_type": "code",
   "execution_count": 2,
   "metadata": {},
   "outputs": [
    {
     "output_type": "execute_result",
     "data": {
      "text/plain": [
       "       bench malloc  duration_time:u  cache-misses:u  cache-references:u  \\\n",
       "0      cfrac     mi     5.352591e+09    6.072360e+04        3.416255e+07   \n",
       "1      cfrac     hd     5.554491e+09    6.189860e+04        5.091127e+07   \n",
       "2      cfrac    sys     5.901674e+09    9.447880e+04        5.896703e+07   \n",
       "3      cfrac  buddy     6.647759e+09    5.434524e+05        1.033399e+08   \n",
       "4   espresso     mi     4.366664e+09    2.631700e+04        6.584458e+07   \n",
       "5   espresso     hd     4.460389e+09    3.319900e+04        1.002424e+08   \n",
       "6   espresso    sys     4.954724e+09    9.895800e+03        8.102614e+07   \n",
       "7   espresso  buddy     5.140517e+09    1.423900e+04        4.396832e+07   \n",
       "8     barnes     mi     2.472734e+09    2.687014e+07        1.302938e+08   \n",
       "9     barnes     hd     2.490536e+09    2.670408e+07        1.468113e+08   \n",
       "10    barnes    sys     2.483826e+09    2.676703e+07        1.434887e+08   \n",
       "11    barnes  buddy     2.362595e+09    2.887848e+07        1.231160e+08   \n",
       "12      lean     mi     2.223458e+10    1.769145e+09        1.165945e+10   \n",
       "13      lean     hd     2.513425e+10    2.840637e+09        1.440411e+10   \n",
       "14      lean    sys     2.684814e+10    2.952850e+09        1.431612e+10   \n",
       "15      lean  buddy     2.405656e+10    2.893290e+09        1.153627e+10   \n",
       "16    larson     mi     7.028532e+09    1.031573e+09        7.273015e+09   \n",
       "17    larson     hd     7.026488e+09    1.730839e+09        7.945966e+09   \n",
       "18    larson    sys     7.031450e+09    1.110601e+09        6.128568e+09   \n",
       "19    larson  buddy     7.031452e+09    1.193796e+09        3.839995e+09   \n",
       "\n",
       "    dTLB-load-misses:u  dTLB-loads:u  instructions:u  page-faults:u  \n",
       "0                631.0  8.407967e+09    4.317615e+10          359.0  \n",
       "1               1597.8  8.714524e+09    4.637537e+10          513.2  \n",
       "2                632.6  1.072828e+10    5.159478e+10          395.6  \n",
       "3              30553.6  1.018571e+10    5.780564e+10          209.8  \n",
       "4              28422.4  7.457488e+09    3.314988e+10          784.2  \n",
       "5               4836.2  7.590727e+09    3.435167e+10          659.4  \n",
       "6              13421.4  9.029386e+09    3.967234e+10          441.8  \n",
       "7               1226.0  8.379388e+09    3.983521e+10          208.0  \n",
       "8            2256757.6  6.415845e+09    2.064504e+10        16565.8  \n",
       "9            2261397.2  6.416183e+09    2.064738e+10        16679.6  \n",
       "10           2256183.0  6.415826e+09    2.064480e+10        16529.8  \n",
       "11            318289.0  6.415686e+09    2.064503e+10         2513.6  \n",
       "12         269477450.0  6.676025e+10    2.030118e+11       123948.4  \n",
       "13         625658487.2  6.830320e+10    2.152506e+11       159695.2  \n",
       "14         521172174.0  8.114323e+10    2.624150e+11       142328.4  \n",
       "15           5919352.8  7.252608e+10    2.484482e+11         1440.6  \n",
       "16          41222967.8  2.230221e+10    9.193427e+10        18978.0  \n",
       "17          32177777.0  2.104246e+10    9.928518e+10        12757.6  \n",
       "18          13194961.2  3.084317e+10    1.233270e+11        14078.0  \n",
       "19              7423.4  1.357238e+10    7.424255e+10         2862.6  "
      ],
      "text/html": "<div>\n<style scoped>\n    .dataframe tbody tr th:only-of-type {\n        vertical-align: middle;\n    }\n\n    .dataframe tbody tr th {\n        vertical-align: top;\n    }\n\n    .dataframe thead th {\n        text-align: right;\n    }\n</style>\n<table border=\"1\" class=\"dataframe\">\n  <thead>\n    <tr style=\"text-align: right;\">\n      <th></th>\n      <th>bench</th>\n      <th>malloc</th>\n      <th>duration_time:u</th>\n      <th>cache-misses:u</th>\n      <th>cache-references:u</th>\n      <th>dTLB-load-misses:u</th>\n      <th>dTLB-loads:u</th>\n      <th>instructions:u</th>\n      <th>page-faults:u</th>\n    </tr>\n  </thead>\n  <tbody>\n    <tr>\n      <th>0</th>\n      <td>cfrac</td>\n      <td>mi</td>\n      <td>5.352591e+09</td>\n      <td>6.072360e+04</td>\n      <td>3.416255e+07</td>\n      <td>631.0</td>\n      <td>8.407967e+09</td>\n      <td>4.317615e+10</td>\n      <td>359.0</td>\n    </tr>\n    <tr>\n      <th>1</th>\n      <td>cfrac</td>\n      <td>hd</td>\n      <td>5.554491e+09</td>\n      <td>6.189860e+04</td>\n      <td>5.091127e+07</td>\n      <td>1597.8</td>\n      <td>8.714524e+09</td>\n      <td>4.637537e+10</td>\n      <td>513.2</td>\n    </tr>\n    <tr>\n      <th>2</th>\n      <td>cfrac</td>\n      <td>sys</td>\n      <td>5.901674e+09</td>\n      <td>9.447880e+04</td>\n      <td>5.896703e+07</td>\n      <td>632.6</td>\n      <td>1.072828e+10</td>\n      <td>5.159478e+10</td>\n      <td>395.6</td>\n    </tr>\n    <tr>\n      <th>3</th>\n      <td>cfrac</td>\n      <td>buddy</td>\n      <td>6.647759e+09</td>\n      <td>5.434524e+05</td>\n      <td>1.033399e+08</td>\n      <td>30553.6</td>\n      <td>1.018571e+10</td>\n      <td>5.780564e+10</td>\n      <td>209.8</td>\n    </tr>\n    <tr>\n      <th>4</th>\n      <td>espresso</td>\n      <td>mi</td>\n      <td>4.366664e+09</td>\n      <td>2.631700e+04</td>\n      <td>6.584458e+07</td>\n      <td>28422.4</td>\n      <td>7.457488e+09</td>\n      <td>3.314988e+10</td>\n      <td>784.2</td>\n    </tr>\n    <tr>\n      <th>5</th>\n      <td>espresso</td>\n      <td>hd</td>\n      <td>4.460389e+09</td>\n      <td>3.319900e+04</td>\n      <td>1.002424e+08</td>\n      <td>4836.2</td>\n      <td>7.590727e+09</td>\n      <td>3.435167e+10</td>\n      <td>659.4</td>\n    </tr>\n    <tr>\n      <th>6</th>\n      <td>espresso</td>\n      <td>sys</td>\n      <td>4.954724e+09</td>\n      <td>9.895800e+03</td>\n      <td>8.102614e+07</td>\n      <td>13421.4</td>\n      <td>9.029386e+09</td>\n      <td>3.967234e+10</td>\n      <td>441.8</td>\n    </tr>\n    <tr>\n      <th>7</th>\n      <td>espresso</td>\n      <td>buddy</td>\n      <td>5.140517e+09</td>\n      <td>1.423900e+04</td>\n      <td>4.396832e+07</td>\n      <td>1226.0</td>\n      <td>8.379388e+09</td>\n      <td>3.983521e+10</td>\n      <td>208.0</td>\n    </tr>\n    <tr>\n      <th>8</th>\n      <td>barnes</td>\n      <td>mi</td>\n      <td>2.472734e+09</td>\n      <td>2.687014e+07</td>\n      <td>1.302938e+08</td>\n      <td>2256757.6</td>\n      <td>6.415845e+09</td>\n      <td>2.064504e+10</td>\n      <td>16565.8</td>\n    </tr>\n    <tr>\n      <th>9</th>\n      <td>barnes</td>\n      <td>hd</td>\n      <td>2.490536e+09</td>\n      <td>2.670408e+07</td>\n      <td>1.468113e+08</td>\n      <td>2261397.2</td>\n      <td>6.416183e+09</td>\n      <td>2.064738e+10</td>\n      <td>16679.6</td>\n    </tr>\n    <tr>\n      <th>10</th>\n      <td>barnes</td>\n      <td>sys</td>\n      <td>2.483826e+09</td>\n      <td>2.676703e+07</td>\n      <td>1.434887e+08</td>\n      <td>2256183.0</td>\n      <td>6.415826e+09</td>\n      <td>2.064480e+10</td>\n      <td>16529.8</td>\n    </tr>\n    <tr>\n      <th>11</th>\n      <td>barnes</td>\n      <td>buddy</td>\n      <td>2.362595e+09</td>\n      <td>2.887848e+07</td>\n      <td>1.231160e+08</td>\n      <td>318289.0</td>\n      <td>6.415686e+09</td>\n      <td>2.064503e+10</td>\n      <td>2513.6</td>\n    </tr>\n    <tr>\n      <th>12</th>\n      <td>lean</td>\n      <td>mi</td>\n      <td>2.223458e+10</td>\n      <td>1.769145e+09</td>\n      <td>1.165945e+10</td>\n      <td>269477450.0</td>\n      <td>6.676025e+10</td>\n      <td>2.030118e+11</td>\n      <td>123948.4</td>\n    </tr>\n    <tr>\n      <th>13</th>\n      <td>lean</td>\n      <td>hd</td>\n      <td>2.513425e+10</td>\n      <td>2.840637e+09</td>\n      <td>1.440411e+10</td>\n      <td>625658487.2</td>\n      <td>6.830320e+10</td>\n      <td>2.152506e+11</td>\n      <td>159695.2</td>\n    </tr>\n    <tr>\n      <th>14</th>\n      <td>lean</td>\n      <td>sys</td>\n      <td>2.684814e+10</td>\n      <td>2.952850e+09</td>\n      <td>1.431612e+10</td>\n      <td>521172174.0</td>\n      <td>8.114323e+10</td>\n      <td>2.624150e+11</td>\n      <td>142328.4</td>\n    </tr>\n    <tr>\n      <th>15</th>\n      <td>lean</td>\n      <td>buddy</td>\n      <td>2.405656e+10</td>\n      <td>2.893290e+09</td>\n      <td>1.153627e+10</td>\n      <td>5919352.8</td>\n      <td>7.252608e+10</td>\n      <td>2.484482e+11</td>\n      <td>1440.6</td>\n    </tr>\n    <tr>\n      <th>16</th>\n      <td>larson</td>\n      <td>mi</td>\n      <td>7.028532e+09</td>\n      <td>1.031573e+09</td>\n      <td>7.273015e+09</td>\n      <td>41222967.8</td>\n      <td>2.230221e+10</td>\n      <td>9.193427e+10</td>\n      <td>18978.0</td>\n    </tr>\n    <tr>\n      <th>17</th>\n      <td>larson</td>\n      <td>hd</td>\n      <td>7.026488e+09</td>\n      <td>1.730839e+09</td>\n      <td>7.945966e+09</td>\n      <td>32177777.0</td>\n      <td>2.104246e+10</td>\n      <td>9.928518e+10</td>\n      <td>12757.6</td>\n    </tr>\n    <tr>\n      <th>18</th>\n      <td>larson</td>\n      <td>sys</td>\n      <td>7.031450e+09</td>\n      <td>1.110601e+09</td>\n      <td>6.128568e+09</td>\n      <td>13194961.2</td>\n      <td>3.084317e+10</td>\n      <td>1.233270e+11</td>\n      <td>14078.0</td>\n    </tr>\n    <tr>\n      <th>19</th>\n      <td>larson</td>\n      <td>buddy</td>\n      <td>7.031452e+09</td>\n      <td>1.193796e+09</td>\n      <td>3.839995e+09</td>\n      <td>7423.4</td>\n      <td>1.357238e+10</td>\n      <td>7.424255e+10</td>\n      <td>2862.6</td>\n    </tr>\n  </tbody>\n</table>\n</div>"
     },
     "metadata": {},
     "execution_count": 2
    }
   ],
   "source": [
    "import pandas as pd\n",
    "\n",
    "def mean_over_invocation(df):\n",
    "    data = {}\n",
    "    for index, row in df.iterrows():\n",
    "        key = (row['malloc'], row['bench'])\n",
    "        if key not in data: data[key] = []\n",
    "        data[key].append(index)\n",
    "    drop_indexes = []\n",
    "    for bm in benchmarks:\n",
    "        for a in mallocs:\n",
    "            idx = data[(a, bm)]\n",
    "            avg = df.loc[idx].mean(axis=0)\n",
    "            v = [v for i, v in avg.items()]\n",
    "            i = [i for i, v in avg.items()]\n",
    "            df.loc[idx[0], i] = v\n",
    "            drop_indexes += idx[1:]\n",
    "    df.drop(drop_indexes, inplace=True)\n",
    "    df.drop(['invocation'], axis=1, inplace=True)\n",
    "    df.reset_index(drop=True, inplace=True)\n",
    "\n",
    "df = pd.read_csv('./_logs/results.csv')\n",
    "\n",
    "benchmarks = sorted(list(set(df['bench'])))\n",
    "mallocs = sorted(list(set(df['malloc'])))\n",
    "metrics = [c for c in df.columns if c not in ['bench', 'malloc', 'invocation']]\n",
    "\n",
    "mean_over_invocation(df)\n",
    "\n",
    "df\n"
   ]
  },
  {
   "cell_type": "code",
   "execution_count": null,
   "metadata": {},
   "outputs": [],
   "source": []
  }
 ]
}