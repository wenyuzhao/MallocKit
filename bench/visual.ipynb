{
 "metadata": {
  "language_info": {
   "codemirror_mode": {
    "name": "ipython",
    "version": 3
   },
   "file_extension": ".py",
   "mimetype": "text/x-python",
   "name": "python",
   "nbconvert_exporter": "python",
   "pygments_lexer": "ipython3",
   "version": "3.9.5"
  },
  "orig_nbformat": 4,
  "kernelspec": {
   "name": "python3",
   "display_name": "Python 3.9.5 64-bit"
  },
  "interpreter": {
   "hash": "e7370f93d1d0cde622a1f8e1c04877d8463912d04d973331ad4851f04de6915a"
  }
 },
 "nbformat": 4,
 "nbformat_minor": 2,
 "cells": [
  {
   "cell_type": "code",
   "execution_count": 1,
   "metadata": {},
   "outputs": [
    {
     "output_type": "display_data",
     "data": {
      "text/plain": "<IPython.core.display.Markdown object>",
      "text/markdown": "| Meta          | Value          |\n|:------------- | --------------:|\n| Git revision  | 95b0171 |\n| System        | Linux (5.12.10-300.fc34.x86_64)           |\n| Processor     | Intel(R) Core(TM) i7-7700 CPU @ 3.60GHz          |\n| Memory        | 16 GB          |\n"
     },
     "metadata": {}
    }
   ],
   "source": [
    "import sys; sys.path.insert(0, '.')\n",
    "import visual\n",
    "visual.display_meta_info()\n"
   ]
  },
  {
   "cell_type": "code",
   "execution_count": 2,
   "metadata": {},
   "outputs": [
    {
     "output_type": "display_data",
     "data": {
      "text/plain": "<IPython.core.display.Markdown object>",
      "text/markdown": "*Mean over 10 invocations.*"
     },
     "metadata": {}
    },
    {
     "output_type": "execute_result",
     "data": {
      "text/plain": [
       "       bench           malloc  duration_time:u  cache-misses:u  \\\n",
       "0      cfrac               mi     5.355556e+09    5.234650e+04   \n",
       "1      cfrac               hd     5.545468e+09    1.258594e+05   \n",
       "2      cfrac              sys     5.890087e+09    1.949080e+04   \n",
       "3      cfrac            buddy     6.609237e+09    1.553260e+04   \n",
       "4      cfrac  buddy_huge_page     6.623935e+09    5.491580e+04   \n",
       "5   espresso               mi     4.370095e+09    1.456830e+04   \n",
       "6   espresso               hd     4.462076e+09    3.663140e+04   \n",
       "7   espresso              sys     4.963451e+09    1.044900e+04   \n",
       "8   espresso            buddy     1.426221e+10    4.603664e+06   \n",
       "9   espresso  buddy_huge_page     5.144623e+09    1.294060e+04   \n",
       "10    barnes               mi     2.480427e+09    2.660394e+07   \n",
       "11    barnes               hd     2.501955e+09    2.668004e+07   \n",
       "12    barnes              sys     2.490830e+09    2.672135e+07   \n",
       "13    barnes            buddy     2.361626e+09    2.923925e+07   \n",
       "14    barnes  buddy_huge_page     2.372090e+09    2.921665e+07   \n",
       "15      lean               mi     2.216184e+10    1.769973e+09   \n",
       "16      lean               hd     2.520983e+10    2.826493e+09   \n",
       "17      lean              sys     2.686885e+10    2.976437e+09   \n",
       "18      lean            buddy     3.264122e+10    4.174603e+09   \n",
       "19      lean  buddy_huge_page     2.403919e+10    2.897352e+09   \n",
       "20    larson               mi     7.030362e+09    1.003894e+09   \n",
       "21    larson               hd     7.028407e+09    1.774665e+09   \n",
       "22    larson              sys     7.031686e+09    1.119330e+09   \n",
       "23    larson            buddy     7.047674e+09    1.463741e+09   \n",
       "24    larson  buddy_huge_page     7.031834e+09    1.198866e+09   \n",
       "\n",
       "    cache-references:u  dTLB-load-misses:u  dTLB-loads:u  instructions:u  \\\n",
       "0         3.385425e+07               540.7  8.407976e+09    4.317615e+10   \n",
       "1         5.115972e+07              1539.4  8.714529e+09    4.637537e+10   \n",
       "2         5.874826e+07               468.4  1.072829e+10    5.159478e+10   \n",
       "3         1.054533e+08             31365.6  1.018950e+10    5.783365e+10   \n",
       "4         1.028808e+08             35089.5  1.018572e+10    5.780564e+10   \n",
       "5         6.111803e+07             35574.9  7.457489e+09    3.314988e+10   \n",
       "6         1.032201e+08              4642.7  7.590722e+09    3.435167e+10   \n",
       "7         8.120698e+07             10295.1  9.029375e+09    3.967234e+10   \n",
       "8         2.403113e+08           2541510.8  8.418483e+09    4.003721e+10   \n",
       "9         4.253908e+07              1267.3  8.379379e+09    3.983521e+10   \n",
       "10        1.345782e+08           2263024.5  6.415955e+09    2.064504e+10   \n",
       "11        1.499960e+08           2263241.7  6.416451e+09    2.064738e+10   \n",
       "12        1.416971e+08           2261747.3  6.415820e+09    2.064480e+10   \n",
       "13        1.260909e+08            591905.7  6.415856e+09    2.064503e+10   \n",
       "14        1.273791e+08            593585.6  6.415922e+09    2.064503e+10   \n",
       "15        1.153482e+10         270088695.7  6.675843e+10    2.029934e+11   \n",
       "16        1.427027e+10         623287024.5  6.830950e+10    2.153639e+11   \n",
       "17        1.423532e+10         524511870.8  8.109633e+10    2.622669e+11   \n",
       "18        1.328138e+10         470738542.5  7.246895e+10    2.484065e+11   \n",
       "19        1.145728e+10           5936400.4  7.248768e+10    2.483062e+11   \n",
       "20        7.264617e+09          40014760.2  2.321022e+10    9.570980e+10   \n",
       "21        8.132011e+09          32389706.7  2.143364e+10    1.010989e+11   \n",
       "22        5.801584e+09          13809253.3  3.125654e+10    1.249799e+11   \n",
       "23        4.552053e+09         150727655.8  1.278987e+10    6.997002e+10   \n",
       "24        3.900665e+09              8157.6  1.354276e+10    7.408068e+10   \n",
       "\n",
       "    page-faults:u  \n",
       "0           358.7  \n",
       "1           513.8  \n",
       "2           396.0  \n",
       "3           797.4  \n",
       "4           208.0  \n",
       "5           784.7  \n",
       "6           659.7  \n",
       "7           442.1  \n",
       "8        352907.5  \n",
       "9           207.9  \n",
       "10        16566.0  \n",
       "11        16679.1  \n",
       "12        16530.3  \n",
       "13         2533.1  \n",
       "14         2513.7  \n",
       "15       123853.6  \n",
       "16       161122.7  \n",
       "17       139009.7  \n",
       "18       369067.4  \n",
       "19         1450.2  \n",
       "20        17972.4  \n",
       "21        12800.0  \n",
       "22        14315.0  \n",
       "23        20350.5  \n",
       "24         2857.5  "
      ],
      "text/html": "<div>\n<style scoped>\n    .dataframe tbody tr th:only-of-type {\n        vertical-align: middle;\n    }\n\n    .dataframe tbody tr th {\n        vertical-align: top;\n    }\n\n    .dataframe thead th {\n        text-align: right;\n    }\n</style>\n<table border=\"1\" class=\"dataframe\">\n  <thead>\n    <tr style=\"text-align: right;\">\n      <th></th>\n      <th>bench</th>\n      <th>malloc</th>\n      <th>duration_time:u</th>\n      <th>cache-misses:u</th>\n      <th>cache-references:u</th>\n      <th>dTLB-load-misses:u</th>\n      <th>dTLB-loads:u</th>\n      <th>instructions:u</th>\n      <th>page-faults:u</th>\n    </tr>\n  </thead>\n  <tbody>\n    <tr>\n      <th>0</th>\n      <td>cfrac</td>\n      <td>mi</td>\n      <td>5.355556e+09</td>\n      <td>5.234650e+04</td>\n      <td>3.385425e+07</td>\n      <td>540.7</td>\n      <td>8.407976e+09</td>\n      <td>4.317615e+10</td>\n      <td>358.7</td>\n    </tr>\n    <tr>\n      <th>1</th>\n      <td>cfrac</td>\n      <td>hd</td>\n      <td>5.545468e+09</td>\n      <td>1.258594e+05</td>\n      <td>5.115972e+07</td>\n      <td>1539.4</td>\n      <td>8.714529e+09</td>\n      <td>4.637537e+10</td>\n      <td>513.8</td>\n    </tr>\n    <tr>\n      <th>2</th>\n      <td>cfrac</td>\n      <td>sys</td>\n      <td>5.890087e+09</td>\n      <td>1.949080e+04</td>\n      <td>5.874826e+07</td>\n      <td>468.4</td>\n      <td>1.072829e+10</td>\n      <td>5.159478e+10</td>\n      <td>396.0</td>\n    </tr>\n    <tr>\n      <th>3</th>\n      <td>cfrac</td>\n      <td>buddy</td>\n      <td>6.609237e+09</td>\n      <td>1.553260e+04</td>\n      <td>1.054533e+08</td>\n      <td>31365.6</td>\n      <td>1.018950e+10</td>\n      <td>5.783365e+10</td>\n      <td>797.4</td>\n    </tr>\n    <tr>\n      <th>4</th>\n      <td>cfrac</td>\n      <td>buddy_huge_page</td>\n      <td>6.623935e+09</td>\n      <td>5.491580e+04</td>\n      <td>1.028808e+08</td>\n      <td>35089.5</td>\n      <td>1.018572e+10</td>\n      <td>5.780564e+10</td>\n      <td>208.0</td>\n    </tr>\n    <tr>\n      <th>5</th>\n      <td>espresso</td>\n      <td>mi</td>\n      <td>4.370095e+09</td>\n      <td>1.456830e+04</td>\n      <td>6.111803e+07</td>\n      <td>35574.9</td>\n      <td>7.457489e+09</td>\n      <td>3.314988e+10</td>\n      <td>784.7</td>\n    </tr>\n    <tr>\n      <th>6</th>\n      <td>espresso</td>\n      <td>hd</td>\n      <td>4.462076e+09</td>\n      <td>3.663140e+04</td>\n      <td>1.032201e+08</td>\n      <td>4642.7</td>\n      <td>7.590722e+09</td>\n      <td>3.435167e+10</td>\n      <td>659.7</td>\n    </tr>\n    <tr>\n      <th>7</th>\n      <td>espresso</td>\n      <td>sys</td>\n      <td>4.963451e+09</td>\n      <td>1.044900e+04</td>\n      <td>8.120698e+07</td>\n      <td>10295.1</td>\n      <td>9.029375e+09</td>\n      <td>3.967234e+10</td>\n      <td>442.1</td>\n    </tr>\n    <tr>\n      <th>8</th>\n      <td>espresso</td>\n      <td>buddy</td>\n      <td>1.426221e+10</td>\n      <td>4.603664e+06</td>\n      <td>2.403113e+08</td>\n      <td>2541510.8</td>\n      <td>8.418483e+09</td>\n      <td>4.003721e+10</td>\n      <td>352907.5</td>\n    </tr>\n    <tr>\n      <th>9</th>\n      <td>espresso</td>\n      <td>buddy_huge_page</td>\n      <td>5.144623e+09</td>\n      <td>1.294060e+04</td>\n      <td>4.253908e+07</td>\n      <td>1267.3</td>\n      <td>8.379379e+09</td>\n      <td>3.983521e+10</td>\n      <td>207.9</td>\n    </tr>\n    <tr>\n      <th>10</th>\n      <td>barnes</td>\n      <td>mi</td>\n      <td>2.480427e+09</td>\n      <td>2.660394e+07</td>\n      <td>1.345782e+08</td>\n      <td>2263024.5</td>\n      <td>6.415955e+09</td>\n      <td>2.064504e+10</td>\n      <td>16566.0</td>\n    </tr>\n    <tr>\n      <th>11</th>\n      <td>barnes</td>\n      <td>hd</td>\n      <td>2.501955e+09</td>\n      <td>2.668004e+07</td>\n      <td>1.499960e+08</td>\n      <td>2263241.7</td>\n      <td>6.416451e+09</td>\n      <td>2.064738e+10</td>\n      <td>16679.1</td>\n    </tr>\n    <tr>\n      <th>12</th>\n      <td>barnes</td>\n      <td>sys</td>\n      <td>2.490830e+09</td>\n      <td>2.672135e+07</td>\n      <td>1.416971e+08</td>\n      <td>2261747.3</td>\n      <td>6.415820e+09</td>\n      <td>2.064480e+10</td>\n      <td>16530.3</td>\n    </tr>\n    <tr>\n      <th>13</th>\n      <td>barnes</td>\n      <td>buddy</td>\n      <td>2.361626e+09</td>\n      <td>2.923925e+07</td>\n      <td>1.260909e+08</td>\n      <td>591905.7</td>\n      <td>6.415856e+09</td>\n      <td>2.064503e+10</td>\n      <td>2533.1</td>\n    </tr>\n    <tr>\n      <th>14</th>\n      <td>barnes</td>\n      <td>buddy_huge_page</td>\n      <td>2.372090e+09</td>\n      <td>2.921665e+07</td>\n      <td>1.273791e+08</td>\n      <td>593585.6</td>\n      <td>6.415922e+09</td>\n      <td>2.064503e+10</td>\n      <td>2513.7</td>\n    </tr>\n    <tr>\n      <th>15</th>\n      <td>lean</td>\n      <td>mi</td>\n      <td>2.216184e+10</td>\n      <td>1.769973e+09</td>\n      <td>1.153482e+10</td>\n      <td>270088695.7</td>\n      <td>6.675843e+10</td>\n      <td>2.029934e+11</td>\n      <td>123853.6</td>\n    </tr>\n    <tr>\n      <th>16</th>\n      <td>lean</td>\n      <td>hd</td>\n      <td>2.520983e+10</td>\n      <td>2.826493e+09</td>\n      <td>1.427027e+10</td>\n      <td>623287024.5</td>\n      <td>6.830950e+10</td>\n      <td>2.153639e+11</td>\n      <td>161122.7</td>\n    </tr>\n    <tr>\n      <th>17</th>\n      <td>lean</td>\n      <td>sys</td>\n      <td>2.686885e+10</td>\n      <td>2.976437e+09</td>\n      <td>1.423532e+10</td>\n      <td>524511870.8</td>\n      <td>8.109633e+10</td>\n      <td>2.622669e+11</td>\n      <td>139009.7</td>\n    </tr>\n    <tr>\n      <th>18</th>\n      <td>lean</td>\n      <td>buddy</td>\n      <td>3.264122e+10</td>\n      <td>4.174603e+09</td>\n      <td>1.328138e+10</td>\n      <td>470738542.5</td>\n      <td>7.246895e+10</td>\n      <td>2.484065e+11</td>\n      <td>369067.4</td>\n    </tr>\n    <tr>\n      <th>19</th>\n      <td>lean</td>\n      <td>buddy_huge_page</td>\n      <td>2.403919e+10</td>\n      <td>2.897352e+09</td>\n      <td>1.145728e+10</td>\n      <td>5936400.4</td>\n      <td>7.248768e+10</td>\n      <td>2.483062e+11</td>\n      <td>1450.2</td>\n    </tr>\n    <tr>\n      <th>20</th>\n      <td>larson</td>\n      <td>mi</td>\n      <td>7.030362e+09</td>\n      <td>1.003894e+09</td>\n      <td>7.264617e+09</td>\n      <td>40014760.2</td>\n      <td>2.321022e+10</td>\n      <td>9.570980e+10</td>\n      <td>17972.4</td>\n    </tr>\n    <tr>\n      <th>21</th>\n      <td>larson</td>\n      <td>hd</td>\n      <td>7.028407e+09</td>\n      <td>1.774665e+09</td>\n      <td>8.132011e+09</td>\n      <td>32389706.7</td>\n      <td>2.143364e+10</td>\n      <td>1.010989e+11</td>\n      <td>12800.0</td>\n    </tr>\n    <tr>\n      <th>22</th>\n      <td>larson</td>\n      <td>sys</td>\n      <td>7.031686e+09</td>\n      <td>1.119330e+09</td>\n      <td>5.801584e+09</td>\n      <td>13809253.3</td>\n      <td>3.125654e+10</td>\n      <td>1.249799e+11</td>\n      <td>14315.0</td>\n    </tr>\n    <tr>\n      <th>23</th>\n      <td>larson</td>\n      <td>buddy</td>\n      <td>7.047674e+09</td>\n      <td>1.463741e+09</td>\n      <td>4.552053e+09</td>\n      <td>150727655.8</td>\n      <td>1.278987e+10</td>\n      <td>6.997002e+10</td>\n      <td>20350.5</td>\n    </tr>\n    <tr>\n      <th>24</th>\n      <td>larson</td>\n      <td>buddy_huge_page</td>\n      <td>7.031834e+09</td>\n      <td>1.198866e+09</td>\n      <td>3.900665e+09</td>\n      <td>8157.6</td>\n      <td>1.354276e+10</td>\n      <td>7.408068e+10</td>\n      <td>2857.5</td>\n    </tr>\n  </tbody>\n</table>\n</div>"
     },
     "metadata": {},
     "execution_count": 2
    }
   ],
   "source": [
    "from visual import Pipeline\n",
    "\n",
    "data = Pipeline.load_results()\n",
    "data, invocations = Pipeline.mean_over_invocation(data)\n",
    "\n",
    "visual.markdown(f'*Mean over {invocations} invocations.*')\n",
    "data\n"
   ]
  },
  {
   "cell_type": "code",
   "execution_count": null,
   "metadata": {},
   "outputs": [],
   "source": []
  }
 ]
}