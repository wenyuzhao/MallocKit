{
 "cells": [
  {
   "cell_type": "code",
   "execution_count": 1,
   "metadata": {},
   "outputs": [
    {
     "data": {
      "text/markdown": [
       "| Meta          | Value          |\n",
       "|:------------- | --------------:|\n",
       "| Git revision  | 27d5a6a |\n",
       "| System        | Linux (5.16.20-200.fc35.x86_64)           |\n",
       "| Processor     | Intel(R) Core(TM) i7-7700 CPU @ 3.60GHz          |\n",
       "| Memory        | 16 GB          |\n"
      ],
      "text/plain": [
       "<IPython.core.display.Markdown object>"
      ]
     },
     "metadata": {},
     "output_type": "display_data"
    }
   ],
   "source": [
    "import sys; sys.path.insert(0, '.')\n",
    "import visual\n",
    "visual.display_meta_info()\n"
   ]
  },
  {
   "cell_type": "code",
   "execution_count": 2,
   "metadata": {},
   "outputs": [
    {
     "data": {
      "text/markdown": [
       "***RUNID**: optiplex-2022-07-01-155209*"
      ],
      "text/plain": [
       "<IPython.core.display.Markdown object>"
      ]
     },
     "metadata": {},
     "output_type": "display_data"
    },
    {
     "data": {
      "text/markdown": [
       "| malloc | description |\n",
       "|:--- |:--- |\n",
       "|**sys**|System alloctor|\n",
       "|**mi**|MiMalloc|\n",
       "|**hd**|Hoard|\n",
       "|**hoard**|Hoard (MallocKit)|\n"
      ],
      "text/plain": [
       "<IPython.core.display.Markdown object>"
      ]
     },
     "metadata": {},
     "output_type": "display_data"
    },
    {
     "data": {
      "text/markdown": [
       "---\n",
       "\n",
       "## Normalized Time:"
      ],
      "text/plain": [
       "<IPython.core.display.Markdown object>"
      ]
     },
     "metadata": {},
     "output_type": "display_data"
    },
    {
     "data": {
      "text/markdown": [
       "***Mean over 10 invocations.***"
      ],
      "text/plain": [
       "<IPython.core.display.Markdown object>"
      ]
     },
     "metadata": {},
     "output_type": "display_data"
    },
    {
     "data": {
      "text/html": [
       "<div>\n",
       "<style scoped>\n",
       "    .dataframe tbody tr th:only-of-type {\n",
       "        vertical-align: middle;\n",
       "    }\n",
       "\n",
       "    .dataframe tbody tr th {\n",
       "        vertical-align: top;\n",
       "    }\n",
       "\n",
       "    .dataframe thead th {\n",
       "        text-align: right;\n",
       "    }\n",
       "</style>\n",
       "<table border=\"1\" class=\"dataframe\">\n",
       "  <thead>\n",
       "    <tr style=\"text-align: right;\">\n",
       "      <th>malloc</th>\n",
       "      <th>sys</th>\n",
       "      <th>mi</th>\n",
       "      <th>hd</th>\n",
       "      <th>hoard</th>\n",
       "    </tr>\n",
       "    <tr>\n",
       "      <th>bench</th>\n",
       "      <th></th>\n",
       "      <th></th>\n",
       "      <th></th>\n",
       "      <th></th>\n",
       "    </tr>\n",
       "  </thead>\n",
       "  <tbody>\n",
       "    <tr>\n",
       "      <th>alloc-test</th>\n",
       "      <td>1.208227</td>\n",
       "      <td>0.943207</td>\n",
       "      <td>1.0</td>\n",
       "      <td>1.071929</td>\n",
       "    </tr>\n",
       "    <tr>\n",
       "      <th>alloc-test1</th>\n",
       "      <td>1.197216</td>\n",
       "      <td>0.948509</td>\n",
       "      <td>1.0</td>\n",
       "      <td>1.051627</td>\n",
       "    </tr>\n",
       "    <tr>\n",
       "      <th>barnes</th>\n",
       "      <td>1.002676</td>\n",
       "      <td>0.991289</td>\n",
       "      <td>1.0</td>\n",
       "      <td>0.993496</td>\n",
       "    </tr>\n",
       "    <tr>\n",
       "      <th>cache-scratch</th>\n",
       "      <td>1.000147</td>\n",
       "      <td>0.999488</td>\n",
       "      <td>1.0</td>\n",
       "      <td>1.005693</td>\n",
       "    </tr>\n",
       "    <tr>\n",
       "      <th>cache-scratch1</th>\n",
       "      <td>0.999586</td>\n",
       "      <td>0.999747</td>\n",
       "      <td>1.0</td>\n",
       "      <td>1.0011</td>\n",
       "    </tr>\n",
       "    <tr>\n",
       "      <th>cfrac</th>\n",
       "      <td>1.051363</td>\n",
       "      <td>0.966231</td>\n",
       "      <td>1.0</td>\n",
       "      <td>1.002868</td>\n",
       "    </tr>\n",
       "    <tr>\n",
       "      <th>espresso</th>\n",
       "      <td>1.118359</td>\n",
       "      <td>0.983914</td>\n",
       "      <td>1.0</td>\n",
       "      <td>0.997829</td>\n",
       "    </tr>\n",
       "    <tr>\n",
       "      <th>glibc-simple</th>\n",
       "      <td>2.029074</td>\n",
       "      <td>0.929485</td>\n",
       "      <td>1.0</td>\n",
       "      <td>1.126286</td>\n",
       "    </tr>\n",
       "    <tr>\n",
       "      <th>glibc-thread</th>\n",
       "      <td>0.999287</td>\n",
       "      <td>0.99937</td>\n",
       "      <td>1.0</td>\n",
       "      <td>1.000164</td>\n",
       "    </tr>\n",
       "    <tr>\n",
       "      <th>gs</th>\n",
       "      <td>0.9846</td>\n",
       "      <td>0.985565</td>\n",
       "      <td>1.0</td>\n",
       "      <td>0.989619</td>\n",
       "    </tr>\n",
       "    <tr>\n",
       "      <th>larson</th>\n",
       "      <td>1.000467</td>\n",
       "      <td>1.000239</td>\n",
       "      <td>1.0</td>\n",
       "      <td>1.001803</td>\n",
       "    </tr>\n",
       "    <tr>\n",
       "      <th>larson-sized</th>\n",
       "      <td>1.000278</td>\n",
       "      <td>1.000042</td>\n",
       "      <td>1.0</td>\n",
       "      <td>1.001496</td>\n",
       "    </tr>\n",
       "    <tr>\n",
       "      <th>lean</th>\n",
       "      <td>1.068011</td>\n",
       "      <td>0.879173</td>\n",
       "      <td>1.0</td>\n",
       "      <td>0.943959</td>\n",
       "    </tr>\n",
       "    <tr>\n",
       "      <th>mstress</th>\n",
       "      <td>0.853416</td>\n",
       "      <td>0.693416</td>\n",
       "      <td>1.0</td>\n",
       "      <td>0.968539</td>\n",
       "    </tr>\n",
       "    <tr>\n",
       "      <th>rptest</th>\n",
       "      <td>0.999874</td>\n",
       "      <td>0.999987</td>\n",
       "      <td>1.0</td>\n",
       "      <td>0.999993</td>\n",
       "    </tr>\n",
       "    <tr>\n",
       "      <th>sh6bench</th>\n",
       "      <td>1.902044</td>\n",
       "      <td>0.398698</td>\n",
       "      <td>1.0</td>\n",
       "      <td>0.668561</td>\n",
       "    </tr>\n",
       "    <tr>\n",
       "      <th>sh8bench</th>\n",
       "      <td>1.264612</td>\n",
       "      <td>0.403471</td>\n",
       "      <td>1.0</td>\n",
       "      <td>0.520412</td>\n",
       "    </tr>\n",
       "    <tr>\n",
       "      <th>xmalloc-test</th>\n",
       "      <td>0.984509</td>\n",
       "      <td>0.982682</td>\n",
       "      <td>1.0</td>\n",
       "      <td>0.984126</td>\n",
       "    </tr>\n",
       "    <tr>\n",
       "      <th>.</th>\n",
       "      <td></td>\n",
       "      <td></td>\n",
       "      <td></td>\n",
       "      <td></td>\n",
       "    </tr>\n",
       "    <tr>\n",
       "      <th>min</th>\n",
       "      <td>0.853416</td>\n",
       "      <td>0.398698</td>\n",
       "      <td>1.0</td>\n",
       "      <td>0.520412</td>\n",
       "    </tr>\n",
       "    <tr>\n",
       "      <th>max</th>\n",
       "      <td>2.029074</td>\n",
       "      <td>1.000239</td>\n",
       "      <td>1.0</td>\n",
       "      <td>1.126286</td>\n",
       "    </tr>\n",
       "    <tr>\n",
       "      <th>mean</th>\n",
       "      <td>1.147986</td>\n",
       "      <td>0.894695</td>\n",
       "      <td>1.0</td>\n",
       "      <td>0.96275</td>\n",
       "    </tr>\n",
       "    <tr>\n",
       "      <th>geomean</th>\n",
       "      <td>1.117199</td>\n",
       "      <td>0.865551</td>\n",
       "      <td>1.0</td>\n",
       "      <td>0.949713</td>\n",
       "    </tr>\n",
       "  </tbody>\n",
       "</table>\n",
       "</div>"
      ],
      "text/plain": [
       "malloc               sys        mi   hd     hoard\n",
       "bench                                            \n",
       "alloc-test      1.208227  0.943207  1.0  1.071929\n",
       "alloc-test1     1.197216  0.948509  1.0  1.051627\n",
       "barnes          1.002676  0.991289  1.0  0.993496\n",
       "cache-scratch   1.000147  0.999488  1.0  1.005693\n",
       "cache-scratch1  0.999586  0.999747  1.0    1.0011\n",
       "cfrac           1.051363  0.966231  1.0  1.002868\n",
       "espresso        1.118359  0.983914  1.0  0.997829\n",
       "glibc-simple    2.029074  0.929485  1.0  1.126286\n",
       "glibc-thread    0.999287   0.99937  1.0  1.000164\n",
       "gs                0.9846  0.985565  1.0  0.989619\n",
       "larson          1.000467  1.000239  1.0  1.001803\n",
       "larson-sized    1.000278  1.000042  1.0  1.001496\n",
       "lean            1.068011  0.879173  1.0  0.943959\n",
       "mstress         0.853416  0.693416  1.0  0.968539\n",
       "rptest          0.999874  0.999987  1.0  0.999993\n",
       "sh6bench        1.902044  0.398698  1.0  0.668561\n",
       "sh8bench        1.264612  0.403471  1.0  0.520412\n",
       "xmalloc-test    0.984509  0.982682  1.0  0.984126\n",
       ".                                                \n",
       "min             0.853416  0.398698  1.0  0.520412\n",
       "max             2.029074  1.000239  1.0  1.126286\n",
       "mean            1.147986  0.894695  1.0   0.96275\n",
       "geomean         1.117199  0.865551  1.0  0.949713"
      ]
     },
     "execution_count": 2,
     "metadata": {},
     "output_type": "execute_result"
    },
    {
     "data": {
      "image/png": "[encoded data removed]",
      "text/plain": [
       "<Figure size 1440x648 with 1 Axes>"
      ]
     },
     "metadata": {
      "needs_background": "light"
     },
     "output_type": "display_data"
    }
   ],
   "source": [
    "from visual import Pipeline\n",
    "\n",
    "data, runid = Pipeline.load_results()\n",
    "data, invocations = Pipeline.mean_over_invocation(data)\n",
    "data = Pipeline.normalize(data, baseline = 'hd')\n",
    "data = Pipeline.plot_bar(data, series='malloc', pivot='bench', value='duration_time', column_order = ['sys', 'mi', 'hd', 'hoard', 'buddy'])\n",
    "\n",
    "visual.markdown(f'***RUNID**: {runid}*')\n",
    "algorithms = '| malloc | description |\\n|:--- |:--- |\\n'\n",
    "for a in data.columns.values:\n",
    "    if a == 'buddy': algorithms += f'|**{a}**|Buddy allocator (MallocKit)|\\n'\n",
    "    elif a == 'hd': algorithms += f'|**{a}**|Hoard|\\n'\n",
    "    elif a == 'hoard': algorithms += f'|**{a}**|Hoard (MallocKit)|\\n'\n",
    "    elif a == 'mi': algorithms += f'|**{a}**|MiMalloc|\\n'\n",
    "    elif a == 'sys': algorithms += f'|**{a}**|System alloctor|\\n'\n",
    "visual.markdown(algorithms)\n",
    "visual.markdown('---\\n\\n## Normalized Time:')\n",
    "visual.markdown(f'***Mean over {invocations} invocations.***')\n",
    "\n",
    "data"
   ]
  }
 ],
 "metadata": {
  "kernelspec": {
   "display_name": "Python 3.10.4 64-bit",
   "language": "python",
   "name": "python3"
  },
  "language_info": {
   "codemirror_mode": {
    "name": "ipython",
    "version": 3
   },
   "file_extension": ".py",
   "mimetype": "text/x-python",
   "name": "python",
   "nbconvert_exporter": "python",
   "pygments_lexer": "ipython3",
   "version": "3.10.4"
  },
  "orig_nbformat": 4,
  "vscode": {
   "interpreter": {
    "hash": "e7370f93d1d0cde622a1f8e1c04877d8463912d04d973331ad4851f04de6915a"
   }
  }
 },
 "nbformat": 4,
 "nbformat_minor": 2
}
