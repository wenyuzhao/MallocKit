{
 "metadata": {
  "language_info": {
   "codemirror_mode": {
    "name": "ipython",
    "version": 3
   },
   "file_extension": ".py",
   "mimetype": "text/x-python",
   "name": "python",
   "nbconvert_exporter": "python",
   "pygments_lexer": "ipython3",
   "version": "2.7.16"
  },
  "orig_nbformat": 4,
  "kernelspec": {
   "name": "python3",
   "display_name": "Python 3.9.5 64-bit"
  },
  "interpreter": {
   "hash": "767d51c1340bd893661ea55ea3124f6de3c7a262a8b4abca0554b478b1e2ff90"
  }
 },
 "nbformat": 4,
 "nbformat_minor": 2,
 "cells": [
  {
   "cell_type": "code",
   "execution_count": 1,
   "metadata": {},
   "outputs": [
    {
     "output_type": "display_data",
     "data": {
      "text/plain": "<IPython.core.display.Markdown object>",
      "text/markdown": "| Meta          | Value          |\n|:------------- | --------------:|\n| Git revision  | 847da40 |\n| System        | Linux (5.12.10-300.fc34.x86_64)           |\n| Processor     | Intel(R) Core(TM) i7-7700 CPU @ 3.60GHz          |\n| Memory        | 16 GB          |\n"
     },
     "metadata": {}
    }
   ],
   "source": [
    "import sys; sys.path.insert(0, '.')\n",
    "import visual\n",
    "visual.display_meta_info()\n"
   ]
  },
  {
   "cell_type": "code",
   "execution_count": 2,
   "metadata": {},
   "outputs": [
    {
     "output_type": "display_data",
     "data": {
      "text/plain": "<IPython.core.display.Markdown object>",
      "text/markdown": "*Mean over 10 invocations.*"
     },
     "metadata": {}
    },
    {
     "output_type": "execute_result",
     "data": {
      "text/plain": [
       "       bench           malloc  duration_time:u  cache-misses:u  \\\n",
       "0      cfrac               mi     5.363485e+09    1.702000e+05   \n",
       "1      cfrac               hd     5.557277e+09    1.558284e+05   \n",
       "2      cfrac              sys     5.903235e+09    9.631070e+04   \n",
       "3      cfrac            buddy     6.651353e+09    2.773653e+05   \n",
       "4      cfrac  buddy_huge_page     6.630240e+09    3.271715e+05   \n",
       "5   espresso               mi     4.370851e+09    1.780980e+04   \n",
       "6   espresso               hd     4.467014e+09    4.465760e+04   \n",
       "7   espresso              sys     4.960908e+09    9.075900e+03   \n",
       "8   espresso            buddy     5.815423e+09    1.865680e+04   \n",
       "9   espresso  buddy_huge_page     5.800949e+09    1.786450e+04   \n",
       "10    barnes               mi     2.473423e+09    2.694230e+07   \n",
       "11    barnes               hd     2.483205e+09    2.675669e+07   \n",
       "12    barnes              sys     2.487788e+09    2.660441e+07   \n",
       "13    barnes            buddy     2.480250e+09    2.692636e+07   \n",
       "14    barnes  buddy_huge_page     2.476585e+09    2.682089e+07   \n",
       "15      lean               mi     2.221820e+10    1.768182e+09   \n",
       "16      lean               hd     2.523295e+10    2.835219e+09   \n",
       "17      lean              sys     2.679600e+10    2.952075e+09   \n",
       "18      lean            buddy     2.728912e+10    3.167205e+09   \n",
       "19      lean  buddy_huge_page     2.496255e+10    2.914350e+09   \n",
       "20    larson               mi     7.028782e+09    1.016209e+09   \n",
       "21    larson               hd     7.027788e+09    1.804433e+09   \n",
       "22    larson              sys     7.031708e+09    1.114178e+09   \n",
       "23    larson            buddy     7.046075e+09    1.437372e+09   \n",
       "24    larson  buddy_huge_page     7.031851e+09    1.180888e+09   \n",
       "\n",
       "    cache-references:u  dTLB-load-misses:u  dTLB-loads:u  instructions:u  \\\n",
       "0         3.353231e+07              1259.4  8.407962e+09    4.317615e+10   \n",
       "1         5.046995e+07              2061.4  8.714526e+09    4.637537e+10   \n",
       "2         5.830513e+07               553.8  1.072829e+10    5.159478e+10   \n",
       "3         1.039275e+08             16078.5  1.018945e+10    5.783365e+10   \n",
       "4         1.022632e+08             29977.9  1.018574e+10    5.780566e+10   \n",
       "5         6.718236e+07             33839.4  7.457482e+09    3.314988e+10   \n",
       "6         9.834175e+07              4938.5  7.590731e+09    3.435167e+10   \n",
       "7         8.319577e+07             10619.3  9.029362e+09    3.967234e+10   \n",
       "8         1.180687e+08           2792679.4  8.418063e+09    4.004663e+10   \n",
       "9         9.535078e+07           2466727.1  8.407603e+09    3.998628e+10   \n",
       "10        1.264681e+08           2264456.9  6.415918e+09    2.064504e+10   \n",
       "11        1.508957e+08           2263727.5  6.416484e+09    2.064738e+10   \n",
       "12        1.510465e+08           2261984.9  6.415876e+09    2.064480e+10   \n",
       "13        1.327702e+08           2264095.1  6.417567e+09    2.065558e+10   \n",
       "14        1.287327e+08           2262891.5  6.417619e+09    2.065558e+10   \n",
       "15        1.153124e+10         270022530.7  6.671480e+10    2.028593e+11   \n",
       "16        1.427578e+10         624435733.1  6.834413e+10    2.154744e+11   \n",
       "17        1.419813e+10         518532986.0  8.105306e+10    2.621189e+11   \n",
       "18        1.377573e+10         520441421.7  7.249460e+10    2.485133e+11   \n",
       "19        1.152356e+10          28588588.5  7.252528e+10    2.485503e+11   \n",
       "20        7.514140e+09          40726983.0  2.272646e+10    9.369834e+10   \n",
       "21        7.568339e+09          32822551.7  2.196908e+10    1.036245e+11   \n",
       "22        6.244431e+09          13134779.5  3.054361e+10    1.221284e+11   \n",
       "23        4.393941e+09         151441945.4  1.285586e+10    7.033035e+10   \n",
       "24        3.639046e+09              7521.1  1.365915e+10    7.471566e+10   \n",
       "\n",
       "    page-faults:u  \n",
       "0           357.9  \n",
       "1           514.4  \n",
       "2           395.4  \n",
       "3           808.0  \n",
       "4           254.4  \n",
       "5           784.1  \n",
       "6           657.8  \n",
       "7           442.8  \n",
       "8        197694.6  \n",
       "9        197540.8  \n",
       "10        16565.9  \n",
       "11        16679.3  \n",
       "12        16530.9  \n",
       "13        16910.5  \n",
       "14        16897.5  \n",
       "15       123739.8  \n",
       "16       162017.7  \n",
       "17       140090.4  \n",
       "18      1112698.6  \n",
       "19       889762.3  \n",
       "20        18258.4  \n",
       "21        12831.0  \n",
       "22        13737.5  \n",
       "23        20402.2  \n",
       "24         2930.0  "
      ],
      "text/html": "<div>\n<style scoped>\n    .dataframe tbody tr th:only-of-type {\n        vertical-align: middle;\n    }\n\n    .dataframe tbody tr th {\n        vertical-align: top;\n    }\n\n    .dataframe thead th {\n        text-align: right;\n    }\n</style>\n<table border=\"1\" class=\"dataframe\">\n  <thead>\n    <tr style=\"text-align: right;\">\n      <th></th>\n      <th>bench</th>\n      <th>malloc</th>\n      <th>duration_time:u</th>\n      <th>cache-misses:u</th>\n      <th>cache-references:u</th>\n      <th>dTLB-load-misses:u</th>\n      <th>dTLB-loads:u</th>\n      <th>instructions:u</th>\n      <th>page-faults:u</th>\n    </tr>\n  </thead>\n  <tbody>\n    <tr>\n      <th>0</th>\n      <td>cfrac</td>\n      <td>mi</td>\n      <td>5.363485e+09</td>\n      <td>1.702000e+05</td>\n      <td>3.353231e+07</td>\n      <td>1259.4</td>\n      <td>8.407962e+09</td>\n      <td>4.317615e+10</td>\n      <td>357.9</td>\n    </tr>\n    <tr>\n      <th>1</th>\n      <td>cfrac</td>\n      <td>hd</td>\n      <td>5.557277e+09</td>\n      <td>1.558284e+05</td>\n      <td>5.046995e+07</td>\n      <td>2061.4</td>\n      <td>8.714526e+09</td>\n      <td>4.637537e+10</td>\n      <td>514.4</td>\n    </tr>\n    <tr>\n      <th>2</th>\n      <td>cfrac</td>\n      <td>sys</td>\n      <td>5.903235e+09</td>\n      <td>9.631070e+04</td>\n      <td>5.830513e+07</td>\n      <td>553.8</td>\n      <td>1.072829e+10</td>\n      <td>5.159478e+10</td>\n      <td>395.4</td>\n    </tr>\n    <tr>\n      <th>3</th>\n      <td>cfrac</td>\n      <td>buddy</td>\n      <td>6.651353e+09</td>\n      <td>2.773653e+05</td>\n      <td>1.039275e+08</td>\n      <td>16078.5</td>\n      <td>1.018945e+10</td>\n      <td>5.783365e+10</td>\n      <td>808.0</td>\n    </tr>\n    <tr>\n      <th>4</th>\n      <td>cfrac</td>\n      <td>buddy_huge_page</td>\n      <td>6.630240e+09</td>\n      <td>3.271715e+05</td>\n      <td>1.022632e+08</td>\n      <td>29977.9</td>\n      <td>1.018574e+10</td>\n      <td>5.780566e+10</td>\n      <td>254.4</td>\n    </tr>\n    <tr>\n      <th>5</th>\n      <td>espresso</td>\n      <td>mi</td>\n      <td>4.370851e+09</td>\n      <td>1.780980e+04</td>\n      <td>6.718236e+07</td>\n      <td>33839.4</td>\n      <td>7.457482e+09</td>\n      <td>3.314988e+10</td>\n      <td>784.1</td>\n    </tr>\n    <tr>\n      <th>6</th>\n      <td>espresso</td>\n      <td>hd</td>\n      <td>4.467014e+09</td>\n      <td>4.465760e+04</td>\n      <td>9.834175e+07</td>\n      <td>4938.5</td>\n      <td>7.590731e+09</td>\n      <td>3.435167e+10</td>\n      <td>657.8</td>\n    </tr>\n    <tr>\n      <th>7</th>\n      <td>espresso</td>\n      <td>sys</td>\n      <td>4.960908e+09</td>\n      <td>9.075900e+03</td>\n      <td>8.319577e+07</td>\n      <td>10619.3</td>\n      <td>9.029362e+09</td>\n      <td>3.967234e+10</td>\n      <td>442.8</td>\n    </tr>\n    <tr>\n      <th>8</th>\n      <td>espresso</td>\n      <td>buddy</td>\n      <td>5.815423e+09</td>\n      <td>1.865680e+04</td>\n      <td>1.180687e+08</td>\n      <td>2792679.4</td>\n      <td>8.418063e+09</td>\n      <td>4.004663e+10</td>\n      <td>197694.6</td>\n    </tr>\n    <tr>\n      <th>9</th>\n      <td>espresso</td>\n      <td>buddy_huge_page</td>\n      <td>5.800949e+09</td>\n      <td>1.786450e+04</td>\n      <td>9.535078e+07</td>\n      <td>2466727.1</td>\n      <td>8.407603e+09</td>\n      <td>3.998628e+10</td>\n      <td>197540.8</td>\n    </tr>\n    <tr>\n      <th>10</th>\n      <td>barnes</td>\n      <td>mi</td>\n      <td>2.473423e+09</td>\n      <td>2.694230e+07</td>\n      <td>1.264681e+08</td>\n      <td>2264456.9</td>\n      <td>6.415918e+09</td>\n      <td>2.064504e+10</td>\n      <td>16565.9</td>\n    </tr>\n    <tr>\n      <th>11</th>\n      <td>barnes</td>\n      <td>hd</td>\n      <td>2.483205e+09</td>\n      <td>2.675669e+07</td>\n      <td>1.508957e+08</td>\n      <td>2263727.5</td>\n      <td>6.416484e+09</td>\n      <td>2.064738e+10</td>\n      <td>16679.3</td>\n    </tr>\n    <tr>\n      <th>12</th>\n      <td>barnes</td>\n      <td>sys</td>\n      <td>2.487788e+09</td>\n      <td>2.660441e+07</td>\n      <td>1.510465e+08</td>\n      <td>2261984.9</td>\n      <td>6.415876e+09</td>\n      <td>2.064480e+10</td>\n      <td>16530.9</td>\n    </tr>\n    <tr>\n      <th>13</th>\n      <td>barnes</td>\n      <td>buddy</td>\n      <td>2.480250e+09</td>\n      <td>2.692636e+07</td>\n      <td>1.327702e+08</td>\n      <td>2264095.1</td>\n      <td>6.417567e+09</td>\n      <td>2.065558e+10</td>\n      <td>16910.5</td>\n    </tr>\n    <tr>\n      <th>14</th>\n      <td>barnes</td>\n      <td>buddy_huge_page</td>\n      <td>2.476585e+09</td>\n      <td>2.682089e+07</td>\n      <td>1.287327e+08</td>\n      <td>2262891.5</td>\n      <td>6.417619e+09</td>\n      <td>2.065558e+10</td>\n      <td>16897.5</td>\n    </tr>\n    <tr>\n      <th>15</th>\n      <td>lean</td>\n      <td>mi</td>\n      <td>2.221820e+10</td>\n      <td>1.768182e+09</td>\n      <td>1.153124e+10</td>\n      <td>270022530.7</td>\n      <td>6.671480e+10</td>\n      <td>2.028593e+11</td>\n      <td>123739.8</td>\n    </tr>\n    <tr>\n      <th>16</th>\n      <td>lean</td>\n      <td>hd</td>\n      <td>2.523295e+10</td>\n      <td>2.835219e+09</td>\n      <td>1.427578e+10</td>\n      <td>624435733.1</td>\n      <td>6.834413e+10</td>\n      <td>2.154744e+11</td>\n      <td>162017.7</td>\n    </tr>\n    <tr>\n      <th>17</th>\n      <td>lean</td>\n      <td>sys</td>\n      <td>2.679600e+10</td>\n      <td>2.952075e+09</td>\n      <td>1.419813e+10</td>\n      <td>518532986.0</td>\n      <td>8.105306e+10</td>\n      <td>2.621189e+11</td>\n      <td>140090.4</td>\n    </tr>\n    <tr>\n      <th>18</th>\n      <td>lean</td>\n      <td>buddy</td>\n      <td>2.728912e+10</td>\n      <td>3.167205e+09</td>\n      <td>1.377573e+10</td>\n      <td>520441421.7</td>\n      <td>7.249460e+10</td>\n      <td>2.485133e+11</td>\n      <td>1112698.6</td>\n    </tr>\n    <tr>\n      <th>19</th>\n      <td>lean</td>\n      <td>buddy_huge_page</td>\n      <td>2.496255e+10</td>\n      <td>2.914350e+09</td>\n      <td>1.152356e+10</td>\n      <td>28588588.5</td>\n      <td>7.252528e+10</td>\n      <td>2.485503e+11</td>\n      <td>889762.3</td>\n    </tr>\n    <tr>\n      <th>20</th>\n      <td>larson</td>\n      <td>mi</td>\n      <td>7.028782e+09</td>\n      <td>1.016209e+09</td>\n      <td>7.514140e+09</td>\n      <td>40726983.0</td>\n      <td>2.272646e+10</td>\n      <td>9.369834e+10</td>\n      <td>18258.4</td>\n    </tr>\n    <tr>\n      <th>21</th>\n      <td>larson</td>\n      <td>hd</td>\n      <td>7.027788e+09</td>\n      <td>1.804433e+09</td>\n      <td>7.568339e+09</td>\n      <td>32822551.7</td>\n      <td>2.196908e+10</td>\n      <td>1.036245e+11</td>\n      <td>12831.0</td>\n    </tr>\n    <tr>\n      <th>22</th>\n      <td>larson</td>\n      <td>sys</td>\n      <td>7.031708e+09</td>\n      <td>1.114178e+09</td>\n      <td>6.244431e+09</td>\n      <td>13134779.5</td>\n      <td>3.054361e+10</td>\n      <td>1.221284e+11</td>\n      <td>13737.5</td>\n    </tr>\n    <tr>\n      <th>23</th>\n      <td>larson</td>\n      <td>buddy</td>\n      <td>7.046075e+09</td>\n      <td>1.437372e+09</td>\n      <td>4.393941e+09</td>\n      <td>151441945.4</td>\n      <td>1.285586e+10</td>\n      <td>7.033035e+10</td>\n      <td>20402.2</td>\n    </tr>\n    <tr>\n      <th>24</th>\n      <td>larson</td>\n      <td>buddy_huge_page</td>\n      <td>7.031851e+09</td>\n      <td>1.180888e+09</td>\n      <td>3.639046e+09</td>\n      <td>7521.1</td>\n      <td>1.365915e+10</td>\n      <td>7.471566e+10</td>\n      <td>2930.0</td>\n    </tr>\n  </tbody>\n</table>\n</div>"
     },
     "metadata": {},
     "execution_count": 2
    }
   ],
   "source": [
    "from visual import Pipeline\n",
    "\n",
    "data = Pipeline.load_results()\n",
    "data, invocations = Pipeline.mean_over_invocation(data)\n",
    "\n",
    "visual.markdown(f'*Mean over {invocations} invocations.*')\n",
    "data\n"
   ]
  },
  {
   "cell_type": "code",
   "execution_count": null,
   "metadata": {},
   "outputs": [],
   "source": []
  }
 ]
}